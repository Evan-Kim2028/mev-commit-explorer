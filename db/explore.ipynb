{
 "cells": [
  {
   "cell_type": "code",
   "execution_count": 1,
   "metadata": {},
   "outputs": [],
   "source": [
    "import duckdb\n",
    "import polars as pl"
   ]
  },
  {
   "cell_type": "code",
   "execution_count": 2,
   "metadata": {},
   "outputs": [],
   "source": [
    "conn = duckdb.connect('data/mev_commit.duckdb', read_only=True)\n",
    "\n",
    "encrypted_stores_df = conn.execute(\"SELECT * FROM encrypted_stores\").pl()\n",
    "commit_stores_df = conn.execute(\"SELECT * FROM commit_stores\").pl()\n",
    "commits_processed_df = conn.execute(\"SELECT * FROM commits_processed\").pl()\n",
    "l1_txs = conn.execute(\"SELECT * FROM l1_transactions\").pl()"
   ]
  },
  {
   "cell_type": "code",
   "execution_count": 3,
   "metadata": {},
   "outputs": [
    {
     "data": {
      "text/html": [
       "<div><style>\n",
       ".dataframe > thead > tr,\n",
       ".dataframe > tbody > tr {\n",
       "  text-align: right;\n",
       "  white-space: pre-wrap;\n",
       "}\n",
       "</style>\n",
       "<small>shape: (326_628, 21)</small><table border=\"1\" class=\"dataframe\"><thead><tr><th>commitmentIndex</th><th>committer</th><th>commitmentDigest</th><th>commitmentSignature</th><th>dispatchTimestamp</th><th>hash</th><th>block_number</th><th>extra_data</th><th>to</th><th>from</th><th>nonce</th><th>type</th><th>block_hash</th><th>timestamp</th><th>base_fee_per_gas</th><th>gas_used_block</th><th>max_priority_fee_per_gas</th><th>max_fee_per_gas</th><th>effective_gas_price</th><th>gas_used</th><th>chain_id</th></tr><tr><td>str</td><td>str</td><td>str</td><td>str</td><td>u64</td><td>str</td><td>u64</td><td>str</td><td>str</td><td>str</td><td>u64</td><td>u8</td><td>str</td><td>u64</td><td>f64</td><td>u64</td><td>f64</td><td>f64</td><td>f64</td><td>f64</td><td>u64</td></tr></thead><tbody><tr><td>&quot;0x02b0d8ded1770b4cff4e354e6f14…</td><td>&quot;0xf21b2308b84a60aca2066dcec6e9…</td><td>&quot;0xa48055e253c25fedfbc0e18113ad…</td><td>&quot;0x16029649673608d285e95033e208…</td><td>1723199368420</td><td>&quot;0x9a937074cff178f775332bd2723d…</td><td>237994</td><td>&quot;0xd883010d0c846765746888676f31…</td><td>&quot;0xcac68d97a56b19204dd3dbdc103c…</td><td>&quot;0xf21b2308b84a60aca2066dcec6e9…</td><td>5</td><td>2</td><td>&quot;0x2204d1eff0ba4b1b94740587e5a1…</td><td>1723199368735</td><td>7.0</td><td>190155</td><td>1.0000e9</td><td>2.0000e9</td><td>1.0000e9</td><td>190155.0</td><td>17864</td></tr><tr><td>&quot;0x7398abefffa85dc40ad6d260b199…</td><td>&quot;0xf21b2308b84a60aca2066dcec6e9…</td><td>&quot;0x0d1cac9204c81742d211708f283b…</td><td>&quot;0x5dc522ebdfff39dabeb102c51aa3…</td><td>1723199380047</td><td>&quot;0x144d83a0e1893eef963f78e8fc83…</td><td>238052</td><td>&quot;0xd883010d0c846765746888676f31…</td><td>&quot;0xcac68d97a56b19204dd3dbdc103c…</td><td>&quot;0xf21b2308b84a60aca2066dcec6e9…</td><td>6</td><td>2</td><td>&quot;0x35f253e12d8ef013b1560a80772d…</td><td>1723199380335</td><td>7.0</td><td>190155</td><td>1.0000e9</td><td>2.0000e9</td><td>1.0000e9</td><td>190155.0</td><td>17864</td></tr><tr><td>&quot;0xc3c46f0aa7d89f3fe696cf4d3dae…</td><td>&quot;0xf21b2308b84a60aca2066dcec6e9…</td><td>&quot;0x0bf20e7bcfe6daf1250ec442123f…</td><td>&quot;0xd57d1d9e5a36dec7431ca53bd62e…</td><td>1723199382865</td><td>&quot;0xfee8212a462bbbd1cffdd1e9ed5f…</td><td>238066</td><td>&quot;0xd883010d0c846765746888676f31…</td><td>&quot;0xcac68d97a56b19204dd3dbdc103c…</td><td>&quot;0xf21b2308b84a60aca2066dcec6e9…</td><td>7</td><td>2</td><td>&quot;0x19be8adb7989b0f134d27cd2153f…</td><td>1723199383135</td><td>7.0</td><td>190155</td><td>1.0000e9</td><td>2.0000e9</td><td>1.0000e9</td><td>190155.0</td><td>17864</td></tr><tr><td>&quot;0xdf3bfa4010b3bb02c1d4aef6d941…</td><td>&quot;0xf21b2308b84a60aca2066dcec6e9…</td><td>&quot;0x8fca86d609332abba1ea9e1bf7de…</td><td>&quot;0x09a93806b045563dd8b52423ff04…</td><td>1723199386168</td><td>&quot;0xa5980a5194ddd10c63c53293b869…</td><td>238083</td><td>&quot;0xd883010d0c846765746888676f31…</td><td>&quot;0xcac68d97a56b19204dd3dbdc103c…</td><td>&quot;0xf21b2308b84a60aca2066dcec6e9…</td><td>8</td><td>2</td><td>&quot;0xa91854c8a0a11604d96abc23eb3b…</td><td>1723199386535</td><td>7.0</td><td>190155</td><td>1.0000e9</td><td>2.0000e9</td><td>1.0000e9</td><td>190155.0</td><td>17864</td></tr><tr><td>&quot;0xf9f45738482d1d0a0e467b717985…</td><td>&quot;0xf21b2308b84a60aca2066dcec6e9…</td><td>&quot;0xad0c3986aaf9e4d1bac74f85b76f…</td><td>&quot;0x059f3376652e22b66da799d4ca16…</td><td>1723199679356</td><td>&quot;0xcf9f639a63cef8228c9e0135df5d…</td><td>239549</td><td>&quot;0xd883010d0c846765746888676f31…</td><td>&quot;0xcac68d97a56b19204dd3dbdc103c…</td><td>&quot;0xf21b2308b84a60aca2066dcec6e9…</td><td>9</td><td>2</td><td>&quot;0x38120843e86f8b71f89fc57e1ea5…</td><td>1723199679735</td><td>7.0</td><td>190155</td><td>1.0000e9</td><td>2.0000e9</td><td>1.0000e9</td><td>190155.0</td><td>17864</td></tr><tr><td>&hellip;</td><td>&hellip;</td><td>&hellip;</td><td>&hellip;</td><td>&hellip;</td><td>&hellip;</td><td>&hellip;</td><td>&hellip;</td><td>&hellip;</td><td>&hellip;</td><td>&hellip;</td><td>&hellip;</td><td>&hellip;</td><td>&hellip;</td><td>&hellip;</td><td>&hellip;</td><td>&hellip;</td><td>&hellip;</td><td>&hellip;</td><td>&hellip;</td><td>&hellip;</td></tr><tr><td>&quot;0x2ca2135979e22f3d3079fd5581e9…</td><td>&quot;0x2445e5e28890de3e93f39fca8176…</td><td>&quot;0x0126cf42fe213904164a7eb7ccc1…</td><td>&quot;0x74aef2ef3930ef2b1c06bc92f7f2…</td><td>1729446542803</td><td>&quot;0xc5792aaa1f03f903aa99f26c1dab…</td><td>31472463</td><td>&quot;0xd883010d0c846765746888676f31…</td><td>&quot;0x9433bcd9e89f923ce587f7fa7e39…</td><td>&quot;0x2445e5e28890de3e93f39fca8176…</td><td>115512</td><td>2</td><td>&quot;0x4697603a0f3a07a393a0cef5bdcf…</td><td>1729446543245</td><td>7.0</td><td>577341</td><td>1.0000e9</td><td>2.0000e9</td><td>1.0000e9</td><td>192459.0</td><td>17864</td></tr><tr><td>&quot;0xa04c9f783aa2c6e929cae6345385…</td><td>&quot;0x8280f34750068c67acf5366a5c7c…</td><td>&quot;0x65f71b309b6131bcd63bec79f88d…</td><td>&quot;0xe900ce67123ea4a7ea225d352995…</td><td>1729446542888</td><td>&quot;0x1c8f1c42d9a9eb7f3834a7b6d0bf…</td><td>31472463</td><td>&quot;0xd883010d0c846765746888676f31…</td><td>&quot;0x9433bcd9e89f923ce587f7fa7e39…</td><td>&quot;0x8280f34750068c67acf5366a5c7c…</td><td>101561</td><td>2</td><td>&quot;0x4697603a0f3a07a393a0cef5bdcf…</td><td>1729446543245</td><td>7.0</td><td>577341</td><td>1.0000e9</td><td>2.0000e9</td><td>1.0000e9</td><td>192447.0</td><td>17864</td></tr><tr><td>&quot;0x3ba9260432be56912645a84cc2d6…</td><td>&quot;0xf21b2308b84a60aca2066dcec6e9…</td><td>&quot;0x7bf3b4c061589bbb04b115bd1fd9…</td><td>&quot;0xff0dce702bff78515425aa791a39…</td><td>1729446554972</td><td>&quot;0xd9d98f58000dc5f8ae9eac72f3e7…</td><td>31472523</td><td>&quot;0xd883010d0c846765746888676f31…</td><td>&quot;0x9433bcd9e89f923ce587f7fa7e39…</td><td>&quot;0xf21b2308b84a60aca2066dcec6e9…</td><td>122971</td><td>2</td><td>&quot;0x451f304265da5c1bfb51c3c9371e…</td><td>1729446555245</td><td>7.0</td><td>384918</td><td>1.0000e9</td><td>2.0000e9</td><td>1.0000e9</td><td>192459.0</td><td>17864</td></tr><tr><td>&quot;0x425df14ca5c3c885661919044f5e…</td><td>&quot;0x2445e5e28890de3e93f39fca8176…</td><td>&quot;0x7efacb6ce1c0b99f782f4564d960…</td><td>&quot;0xf7b6c4cef786e02e29ff7196cb0b…</td><td>1729446554922</td><td>&quot;0x6c1d90f388643c59c1124e2db9af…</td><td>31472523</td><td>&quot;0xd883010d0c846765746888676f31…</td><td>&quot;0x9433bcd9e89f923ce587f7fa7e39…</td><td>&quot;0x2445e5e28890de3e93f39fca8176…</td><td>115513</td><td>2</td><td>&quot;0x451f304265da5c1bfb51c3c9371e…</td><td>1729446555245</td><td>7.0</td><td>384918</td><td>1.0000e9</td><td>2.0000e9</td><td>1.0000e9</td><td>192459.0</td><td>17864</td></tr><tr><td>&quot;0x2a9374cc7906958e3c2b42b49d9a…</td><td>&quot;0x8280f34750068c67acf5366a5c7c…</td><td>&quot;0xb72e96dbee0f2976d3df8dd11436…</td><td>&quot;0x8c2d85bb21f51c3e5882148a7fa3…</td><td>1729446555007</td><td>&quot;0x2a0248f20a8c12950eedaec95b38…</td><td>31472524</td><td>&quot;0xd883010d0c846765746888676f31…</td><td>&quot;0x9433bcd9e89f923ce587f7fa7e39…</td><td>&quot;0x8280f34750068c67acf5366a5c7c…</td><td>101562</td><td>2</td><td>&quot;0x43841ac1f3d44bcce1aa303fa9e4…</td><td>1729446555445</td><td>7.0</td><td>192447</td><td>1.0000e9</td><td>2.0000e9</td><td>1.0000e9</td><td>192447.0</td><td>17864</td></tr></tbody></table></div>"
      ],
      "text/plain": [
       "shape: (326_628, 21)\n",
       "┌────────────┬───────────┬───────────┬───────────┬───┬───────────┬───────────┬──────────┬──────────┐\n",
       "│ commitment ┆ committer ┆ commitmen ┆ commitmen ┆ … ┆ max_fee_p ┆ effective ┆ gas_used ┆ chain_id │\n",
       "│ Index      ┆ ---       ┆ tDigest   ┆ tSignatur ┆   ┆ er_gas    ┆ _gas_pric ┆ ---      ┆ ---      │\n",
       "│ ---        ┆ str       ┆ ---       ┆ e         ┆   ┆ ---       ┆ e         ┆ f64      ┆ u64      │\n",
       "│ str        ┆           ┆ str       ┆ ---       ┆   ┆ f64       ┆ ---       ┆          ┆          │\n",
       "│            ┆           ┆           ┆ str       ┆   ┆           ┆ f64       ┆          ┆          │\n",
       "╞════════════╪═══════════╪═══════════╪═══════════╪═══╪═══════════╪═══════════╪══════════╪══════════╡\n",
       "│ 0x02b0d8de ┆ 0xf21b230 ┆ 0xa48055e ┆ 0x1602964 ┆ … ┆ 2.0000e9  ┆ 1.0000e9  ┆ 190155.0 ┆ 17864    │\n",
       "│ d1770b4cff ┆ 8b84a60ac ┆ 253c25fed ┆ 9673608d2 ┆   ┆           ┆           ┆          ┆          │\n",
       "│ 4e354e6f14 ┆ a2066dcec ┆ fbc0e1811 ┆ 85e95033e ┆   ┆           ┆           ┆          ┆          │\n",
       "│ …          ┆ 6e9…      ┆ 3ad…      ┆ 208…      ┆   ┆           ┆           ┆          ┆          │\n",
       "│ 0x7398abef ┆ 0xf21b230 ┆ 0x0d1cac9 ┆ 0x5dc522e ┆ … ┆ 2.0000e9  ┆ 1.0000e9  ┆ 190155.0 ┆ 17864    │\n",
       "│ ffa85dc40a ┆ 8b84a60ac ┆ 204c81742 ┆ bdfff39da ┆   ┆           ┆           ┆          ┆          │\n",
       "│ d6d260b199 ┆ a2066dcec ┆ d211708f2 ┆ beb102c51 ┆   ┆           ┆           ┆          ┆          │\n",
       "│ …          ┆ 6e9…      ┆ 83b…      ┆ aa3…      ┆   ┆           ┆           ┆          ┆          │\n",
       "│ 0xc3c46f0a ┆ 0xf21b230 ┆ 0x0bf20e7 ┆ 0xd57d1d9 ┆ … ┆ 2.0000e9  ┆ 1.0000e9  ┆ 190155.0 ┆ 17864    │\n",
       "│ a7d89f3fe6 ┆ 8b84a60ac ┆ bcfe6daf1 ┆ e5a36dec7 ┆   ┆           ┆           ┆          ┆          │\n",
       "│ 96cf4d3dae ┆ a2066dcec ┆ 250ec4421 ┆ 431ca53bd ┆   ┆           ┆           ┆          ┆          │\n",
       "│ …          ┆ 6e9…      ┆ 23f…      ┆ 62e…      ┆   ┆           ┆           ┆          ┆          │\n",
       "│ 0xdf3bfa40 ┆ 0xf21b230 ┆ 0x8fca86d ┆ 0x09a9380 ┆ … ┆ 2.0000e9  ┆ 1.0000e9  ┆ 190155.0 ┆ 17864    │\n",
       "│ 10b3bb02c1 ┆ 8b84a60ac ┆ 609332abb ┆ 6b045563d ┆   ┆           ┆           ┆          ┆          │\n",
       "│ d4aef6d941 ┆ a2066dcec ┆ a1ea9e1bf ┆ d8b52423f ┆   ┆           ┆           ┆          ┆          │\n",
       "│ …          ┆ 6e9…      ┆ 7de…      ┆ f04…      ┆   ┆           ┆           ┆          ┆          │\n",
       "│ 0xf9f45738 ┆ 0xf21b230 ┆ 0xad0c398 ┆ 0x059f337 ┆ … ┆ 2.0000e9  ┆ 1.0000e9  ┆ 190155.0 ┆ 17864    │\n",
       "│ 482d1d0a0e ┆ 8b84a60ac ┆ 6aaf9e4d1 ┆ 6652e22b6 ┆   ┆           ┆           ┆          ┆          │\n",
       "│ 467b717985 ┆ a2066dcec ┆ bac74f85b ┆ 6da799d4c ┆   ┆           ┆           ┆          ┆          │\n",
       "│ …          ┆ 6e9…      ┆ 76f…      ┆ a16…      ┆   ┆           ┆           ┆          ┆          │\n",
       "│ …          ┆ …         ┆ …         ┆ …         ┆ … ┆ …         ┆ …         ┆ …        ┆ …        │\n",
       "│ 0x2ca21359 ┆ 0x2445e5e ┆ 0x0126cf4 ┆ 0x74aef2e ┆ … ┆ 2.0000e9  ┆ 1.0000e9  ┆ 192459.0 ┆ 17864    │\n",
       "│ 79e22f3d30 ┆ 28890de3e ┆ 2fe213904 ┆ f3930ef2b ┆   ┆           ┆           ┆          ┆          │\n",
       "│ 79fd5581e9 ┆ 93f39fca8 ┆ 164a7eb7c ┆ 1c06bc92f ┆   ┆           ┆           ┆          ┆          │\n",
       "│ …          ┆ 176…      ┆ cc1…      ┆ 7f2…      ┆   ┆           ┆           ┆          ┆          │\n",
       "│ 0xa04c9f78 ┆ 0x8280f34 ┆ 0x65f71b3 ┆ 0xe900ce6 ┆ … ┆ 2.0000e9  ┆ 1.0000e9  ┆ 192447.0 ┆ 17864    │\n",
       "│ 3aa2c6e929 ┆ 750068c67 ┆ 09b6131bc ┆ 7123ea4a7 ┆   ┆           ┆           ┆          ┆          │\n",
       "│ cae6345385 ┆ acf5366a5 ┆ d63bec79f ┆ ea225d352 ┆   ┆           ┆           ┆          ┆          │\n",
       "│ …          ┆ c7c…      ┆ 88d…      ┆ 995…      ┆   ┆           ┆           ┆          ┆          │\n",
       "│ 0x3ba92604 ┆ 0xf21b230 ┆ 0x7bf3b4c ┆ 0xff0dce7 ┆ … ┆ 2.0000e9  ┆ 1.0000e9  ┆ 192459.0 ┆ 17864    │\n",
       "│ 32be569126 ┆ 8b84a60ac ┆ 061589bbb ┆ 02bff7851 ┆   ┆           ┆           ┆          ┆          │\n",
       "│ 45a84cc2d6 ┆ a2066dcec ┆ 04b115bd1 ┆ 5425aa791 ┆   ┆           ┆           ┆          ┆          │\n",
       "│ …          ┆ 6e9…      ┆ fd9…      ┆ a39…      ┆   ┆           ┆           ┆          ┆          │\n",
       "│ 0x425df14c ┆ 0x2445e5e ┆ 0x7efacb6 ┆ 0xf7b6c4c ┆ … ┆ 2.0000e9  ┆ 1.0000e9  ┆ 192459.0 ┆ 17864    │\n",
       "│ a5c3c88566 ┆ 28890de3e ┆ ce1c0b99f ┆ ef786e02e ┆   ┆           ┆           ┆          ┆          │\n",
       "│ 1919044f5e ┆ 93f39fca8 ┆ 782f4564d ┆ 29ff7196c ┆   ┆           ┆           ┆          ┆          │\n",
       "│ …          ┆ 176…      ┆ 960…      ┆ b0b…      ┆   ┆           ┆           ┆          ┆          │\n",
       "│ 0x2a9374cc ┆ 0x8280f34 ┆ 0xb72e96d ┆ 0x8c2d85b ┆ … ┆ 2.0000e9  ┆ 1.0000e9  ┆ 192447.0 ┆ 17864    │\n",
       "│ 7906958e3c ┆ 750068c67 ┆ bee0f2976 ┆ b21f51c3e ┆   ┆           ┆           ┆          ┆          │\n",
       "│ 2b42b49d9a ┆ acf5366a5 ┆ d3df8dd11 ┆ 5882148a7 ┆   ┆           ┆           ┆          ┆          │\n",
       "│ …          ┆ c7c…      ┆ 436…      ┆ fa3…      ┆   ┆           ┆           ┆          ┆          │\n",
       "└────────────┴───────────┴───────────┴───────────┴───┴───────────┴───────────┴──────────┴──────────┘"
      ]
     },
     "execution_count": 3,
     "metadata": {},
     "output_type": "execute_result"
    }
   ],
   "source": [
    "encrypted_stores_df"
   ]
  },
  {
   "cell_type": "code",
   "execution_count": 4,
   "metadata": {},
   "outputs": [],
   "source": [
    "# Perform joins\n",
    "commitments_df = (\n",
    "    encrypted_stores_df.select('commitmentIndex', 'committer', 'commitmentDigest').join(commit_stores_df, on=\"commitmentIndex\", how=\"inner\", suffix=\"_opened_commit\")\n",
    "    .with_columns((pl.lit(\"0x\") + pl.col(\"txnHash\")).alias(\"txnHash\"))\n",
    "    .join(\n",
    "        commits_processed_df.select(\"commitmentIndex\", \"isSlash\"),\n",
    "        on=\"commitmentIndex\",\n",
    "        how=\"inner\",\n",
    "    )\n",
    "    .join(\n",
    "        l1_txs,\n",
    "        left_on=\"txnHash\",\n",
    "        right_on=\"hash\",\n",
    "        suffix=\"_l1\",\n",
    "    )\n",
    "    .rename(\n",
    "        {'blockNumber': 'inc_block_number' # desired block number for preconf\n",
    "         }\n",
    "        )\n",
    ")"
   ]
  },
  {
   "cell_type": "code",
   "execution_count": 5,
   "metadata": {},
   "outputs": [
    {
     "data": {
      "text/plain": [
       "['commitmentIndex',\n",
       " 'committer',\n",
       " 'commitmentDigest',\n",
       " 'bidder',\n",
       " 'commiter',\n",
       " 'bid',\n",
       " 'inc_block_number',\n",
       " 'bidHash',\n",
       " 'decayStartTimeStamp',\n",
       " 'decayEndTimeStamp',\n",
       " 'txnHash',\n",
       " 'revertingTxHashes',\n",
       " 'commitmentHash',\n",
       " 'bidSignature',\n",
       " 'commitmentSignature',\n",
       " 'dispatchTimestamp',\n",
       " 'sharedSecretKey',\n",
       " 'hash',\n",
       " 'block_number',\n",
       " 'extra_data',\n",
       " 'to',\n",
       " 'from',\n",
       " 'nonce',\n",
       " 'type',\n",
       " 'block_hash',\n",
       " 'timestamp',\n",
       " 'base_fee_per_gas',\n",
       " 'gas_used_block',\n",
       " 'max_priority_fee_per_gas',\n",
       " 'max_fee_per_gas',\n",
       " 'effective_gas_price',\n",
       " 'gas_used',\n",
       " 'chain_id',\n",
       " 'isSlash',\n",
       " 'block_number_l1',\n",
       " 'extra_data_l1',\n",
       " 'to_l1',\n",
       " 'from_l1',\n",
       " 'nonce_l1',\n",
       " 'type_l1',\n",
       " 'block_hash_l1',\n",
       " 'timestamp_l1',\n",
       " 'base_fee_per_gas_l1',\n",
       " 'gas_used_block_l1',\n",
       " 'parent_beacon_block_root',\n",
       " 'max_priority_fee_per_gas_l1',\n",
       " 'max_fee_per_gas_l1',\n",
       " 'effective_gas_price_l1',\n",
       " 'gas_used_l1',\n",
       " 'blob_versioned_hashes']"
      ]
     },
     "execution_count": 5,
     "metadata": {},
     "output_type": "execute_result"
    }
   ],
   "source": [
    "commitments_df.columns"
   ]
  },
  {
   "cell_type": "code",
   "execution_count": 6,
   "metadata": {},
   "outputs": [],
   "source": [
    "commitments_df = commitments_df.select(\n",
    "    'commitmentIndex',\n",
    "    'committer',\n",
    "    'commitmentDigest',\n",
    "    'bidder',\n",
    "    'isSlash',\n",
    "    'commitmentSignature',\n",
    "    'bid',\n",
    "    'inc_block_number', \n",
    "    'bidHash', \n",
    "    'decayStartTimeStamp',\n",
    "    'decayEndTimeStamp',\n",
    "    'txnHash',\n",
    "    'revertingTxHashes',\n",
    "    'bidSignature',\n",
    "    'sharedSecretKey',\n",
    "    'block_number', # mev-commit block number\n",
    "    # the l1 transaction data\n",
    "    'block_number_l1',\n",
    "    'extra_data_l1',\n",
    "    'to_l1',\n",
    "    'from_l1',\n",
    "    'nonce_l1',\n",
    "    'type_l1',\n",
    "    'block_hash_l1',\n",
    "    'timestamp_l1',\n",
    "    'base_fee_per_gas_l1',\n",
    "    'gas_used_block_l1',\n",
    "    'parent_beacon_block_root',\n",
    "    'max_priority_fee_per_gas_l1',\n",
    "    'max_fee_per_gas_l1',\n",
    "    'effective_gas_price_l1',\n",
    "    'gas_used_l1'\n",
    "    )"
   ]
  },
  {
   "cell_type": "code",
   "execution_count": 7,
   "metadata": {},
   "outputs": [
    {
     "data": {
      "text/html": [
       "<div><style>\n",
       ".dataframe > thead > tr,\n",
       ".dataframe > tbody > tr {\n",
       "  text-align: right;\n",
       "  white-space: pre-wrap;\n",
       "}\n",
       "</style>\n",
       "<small>shape: (15_460, 31)</small><table border=\"1\" class=\"dataframe\"><thead><tr><th>commitmentIndex</th><th>committer</th><th>commitmentDigest</th><th>bidder</th><th>isSlash</th><th>commitmentSignature</th><th>bid</th><th>inc_block_number</th><th>bidHash</th><th>decayStartTimeStamp</th><th>decayEndTimeStamp</th><th>txnHash</th><th>revertingTxHashes</th><th>bidSignature</th><th>sharedSecretKey</th><th>block_number</th><th>block_number_l1</th><th>extra_data_l1</th><th>to_l1</th><th>from_l1</th><th>nonce_l1</th><th>type_l1</th><th>block_hash_l1</th><th>timestamp_l1</th><th>base_fee_per_gas_l1</th><th>gas_used_block_l1</th><th>parent_beacon_block_root</th><th>max_priority_fee_per_gas_l1</th><th>max_fee_per_gas_l1</th><th>effective_gas_price_l1</th><th>gas_used_l1</th></tr><tr><td>str</td><td>str</td><td>str</td><td>str</td><td>bool</td><td>str</td><td>u64</td><td>u64</td><td>str</td><td>u64</td><td>u64</td><td>str</td><td>str</td><td>str</td><td>str</td><td>u64</td><td>u64</td><td>str</td><td>str</td><td>str</td><td>u64</td><td>u8</td><td>str</td><td>u64</td><td>f64</td><td>u64</td><td>str</td><td>f64</td><td>f64</td><td>f64</td><td>f64</td></tr></thead><tbody><tr><td>&quot;0x13d5cc1a3fd55c5ea772f43be7dd…</td><td>&quot;0x2445e5e28890de3e93f39fca8176…</td><td>&quot;0xb7f3c6757778f031dcd35944cc3d…</td><td>&quot;0xca00cbb64386d60edeb1825e5692…</td><td>true</td><td>&quot;0xe36d1c79155b9a4acc6effed5064…</td><td>3532237044280734</td><td>2118560</td><td>&quot;0x857f5b444efe73b9a9eb4fd27088…</td><td>1723472974841</td><td>1723472990841</td><td>&quot;0xacfe0c7fca1bedaaf49ad5c559d7…</td><td>&quot;&quot;</td><td>&quot;0xc9438e8073a2fb1a46f019be48d4…</td><td>&quot;0x866e25df31d76d55352695fbbcd7…</td><td>1606844</td><td>2118561</td><td>&quot;0xd883010e07846765746888676f31…</td><td>&quot;0x0888e9e350ae4ac703e1e78341b1…</td><td>&quot;0x9962dbdc07a4acaedeebc8bd1baf…</td><td>255</td><td>0</td><td>&quot;0x315dce563e757d5d3dd4ea4b42e1…</td><td>1723473000</td><td>8.0</td><td>20270391</td><td>&quot;0x6bcb91403a2865cefbece202d901…</td><td>null</td><td>null</td><td>5.0799891e7</td><td>148404.0</td></tr><tr><td>&quot;0x1acfbd9b90728f58d1a83876473a…</td><td>&quot;0x2445e5e28890de3e93f39fca8176…</td><td>&quot;0x1771c78b7672b4cc592ca32870ac…</td><td>&quot;0xca00cbb64386d60edeb1825e5692…</td><td>true</td><td>&quot;0x1fd5c2ad99b43ab35ad9c7f77c03…</td><td>6822630417061018</td><td>2118616</td><td>&quot;0x165aa821822577b10e09e521f87b…</td><td>1723473691740</td><td>1723473707740</td><td>&quot;0x091cd44e4ca11dba85fe124dc519…</td><td>&quot;&quot;</td><td>&quot;0x60aa3127141ad12f29d2128c461a…</td><td>&quot;0xe65922d422d1839a1c58f9e978cd…</td><td>1610447</td><td>2118617</td><td>&quot;0x4e65746865726d696e64&quot;</td><td>&quot;0xeb500e7aa3affbd8ff67a4c76e53…</td><td>&quot;0x8babb7e35ce2f4ccf93ac076e8ae…</td><td>3013</td><td>0</td><td>&quot;0x287e667a1ae0ada1aac8eaa92ef9…</td><td>1723473720</td><td>7.0</td><td>16458542</td><td>&quot;0x1bbb0cb7007ef83a608645ce9530…</td><td>null</td><td>null</td><td>4.6363686e7</td><td>21368.0</td></tr><tr><td>&quot;0x4f0635cc3a812f20fe5195523e10…</td><td>&quot;0x2445e5e28890de3e93f39fca8176…</td><td>&quot;0x63e87012d498188e87a08cab56a2…</td><td>&quot;0xca00cbb64386d60edeb1825e5692…</td><td>true</td><td>&quot;0xe0958d0b00fad42340debe650bd2…</td><td>1404704875254849</td><td>2118626</td><td>&quot;0xc559a1cf2f5269a5a306e25af9e4…</td><td>1723473812152</td><td>1723473828152</td><td>&quot;0xf16c892a8fbeb0a2a300a47e319b…</td><td>&quot;&quot;</td><td>&quot;0xf8db7feb63b456eaca781bf5edaa…</td><td>&quot;0x0e9b0dcff0abf39def69cee220a4…</td><td>1611294</td><td>2118627</td><td>&quot;0x4e65746865726d696e642d312e32…</td><td>&quot;0xea593b730d745fb5fe01b6d20e66…</td><td>&quot;0xbf966e6d886a1f7910d3bc977770…</td><td>81</td><td>2</td><td>&quot;0x5746492254c36cb00bf085f2ad65…</td><td>1723473840</td><td>8.0</td><td>8964836</td><td>&quot;0xa3f757fe71e78fd9df1948e8ad40…</td><td>4.4972768e7</td><td>4.4972779e7</td><td>4.4972776e7</td><td>197522.0</td></tr><tr><td>&quot;0xfb1a5a43629a1336f348e70074a5…</td><td>&quot;0x2445e5e28890de3e93f39fca8176…</td><td>&quot;0xa6ea51a80f622dc14b019e81fdbf…</td><td>&quot;0xca00cbb64386d60edeb1825e5692…</td><td>true</td><td>&quot;0xda38819fe1795eb73d87e9670887…</td><td>9724402463054850</td><td>2118636</td><td>&quot;0x1d4adbefe1d459cec32a7b17d401…</td><td>1723473987059</td><td>1723474003059</td><td>&quot;0x98318993cdf90bca36e839a5e9a1…</td><td>&quot;&quot;</td><td>&quot;0xf1d0fab89d2da9be990d33fd4cb3…</td><td>&quot;0x58c9c1bf26af5e57244ed992677d…</td><td>1611944</td><td>2118637</td><td>&quot;0x4e65746865726d696e64&quot;</td><td>&quot;0x93de6a193a839218bca00c8d4782…</td><td>&quot;0x53accc735d85979e4aad0277fa9a…</td><td>30</td><td>2</td><td>&quot;0xdacbd81506ce18247e2ada3c214f…</td><td>1723474008</td><td>8.0</td><td>9418865</td><td>&quot;0xc051fdccf9e91e094d3d088bfc67…</td><td>4.4972776e7</td><td>4.4972776e7</td><td>4.4972776e7</td><td>170593.0</td></tr><tr><td>&quot;0x6ab80423b0da521090e797d6959a…</td><td>&quot;0x2445e5e28890de3e93f39fca8176…</td><td>&quot;0xe83829f9afcf3b56bf3b19105aab…</td><td>&quot;0xca00cbb64386d60edeb1825e5692…</td><td>true</td><td>&quot;0x31f6f93f7b559dcbb97e65491d9a…</td><td>3722509709143088</td><td>2118648</td><td>&quot;0x8c89223a202ce6174fb117e90ce5…</td><td>1723474135514</td><td>1723474151514</td><td>&quot;0xf6fdd86d506178420c0f0c2f22d2…</td><td>&quot;&quot;</td><td>&quot;0x59161c43c4bd3f34eb9296ca0b99…</td><td>&quot;0xdc36bfe6b0630396b6014a261b54…</td><td>1612727</td><td>2118649</td><td>&quot;0x4e65746865726d696e642d312e32…</td><td>&quot;0xc16ba194e839d26c0b14c6d23564…</td><td>&quot;0x2f3fb4eda321a47cc7e6bd4fbf0c…</td><td>77292</td><td>2</td><td>&quot;0x575f3a2929148ab35247b2da0a7d…</td><td>1723474164</td><td>8.0</td><td>16488511</td><td>&quot;0xfd83d7ff137341ee7088833c0431…</td><td>4.3623584e7</td><td>4.36236e7</td><td>4.3623592e7</td><td>3.010266e6</td></tr><tr><td>&hellip;</td><td>&hellip;</td><td>&hellip;</td><td>&hellip;</td><td>&hellip;</td><td>&hellip;</td><td>&hellip;</td><td>&hellip;</td><td>&hellip;</td><td>&hellip;</td><td>&hellip;</td><td>&hellip;</td><td>&hellip;</td><td>&hellip;</td><td>&hellip;</td><td>&hellip;</td><td>&hellip;</td><td>&hellip;</td><td>&hellip;</td><td>&hellip;</td><td>&hellip;</td><td>&hellip;</td><td>&hellip;</td><td>&hellip;</td><td>&hellip;</td><td>&hellip;</td><td>&hellip;</td><td>&hellip;</td><td>&hellip;</td><td>&hellip;</td><td>&hellip;</td></tr><tr><td>&quot;0x768ef42848e5f0c6bddf57df3ebb…</td><td>&quot;0x2445e5e28890de3e93f39fca8176…</td><td>&quot;0x29f44f5e7fe28562c7298c6cd62f…</td><td>&quot;0xe51ef1836dbef052bffd2eb3fe13…</td><td>false</td><td>&quot;0xa700fc6fc8108ab4eb9553d436cb…</td><td>55397690733713320</td><td>2572539</td><td>&quot;0x34933daeae0131d9306a56bad320…</td><td>1729439894316</td><td>1729439930316</td><td>&quot;0x7c63c5b1c50fe9779a1793d18082…</td><td>&quot;&quot;</td><td>&quot;0x34dd970fc2260bddcf652b0675dc…</td><td>&quot;0x851368b6ed8dd5cdaad822c2f12f…</td><td>31439958</td><td>2572539</td><td>&quot;0x707265636f6e662e6275696c6465…</td><td>&quot;0xe51ef1836dbef052bffd2eb3fe13…</td><td>&quot;0xe51ef1836dbef052bffd2eb3fe13…</td><td>19836</td><td>2</td><td>&quot;0x0383c67003585f96c53b30d40825…</td><td>1729439916</td><td>18.0</td><td>674361</td><td>&quot;0xac15085a429092d21a5ae9644450…</td><td>0.0</td><td>72.0</td><td>18.0</td><td>21000.0</td></tr><tr><td>&quot;0x6770b3bcc16e25d29662bc51141d…</td><td>&quot;0x2445e5e28890de3e93f39fca8176…</td><td>&quot;0xe2ec05cc4b30b77b35f117caea3b…</td><td>&quot;0xe51ef1836dbef052bffd2eb3fe13…</td><td>false</td><td>&quot;0x6015297af035f16f4e9ac2febf72…</td><td>82371497503953808</td><td>2572729</td><td>&quot;0x578be04f32bad907e5496617e925…</td><td>1729442331672</td><td>1729442367672</td><td>&quot;0x6d2a974c4acc269a3dcdcbcbcf95…</td><td>&quot;&quot;</td><td>&quot;0xcd79eaf8dc2978fd4e5a6d7efd74…</td><td>&quot;0xf4d823a19c0774c32158a6d2c80a…</td><td>31452148</td><td>2572729</td><td>&quot;0x707265636f6e662e6275696c6465…</td><td>&quot;0xe51ef1836dbef052bffd2eb3fe13…</td><td>&quot;0xe51ef1836dbef052bffd2eb3fe13…</td><td>19837</td><td>2</td><td>&quot;0x74a8e198dcae570ca5274ff64de6…</td><td>1729442352</td><td>7.0</td><td>483016</td><td>&quot;0x2834e1439b973e66ea11be37bd29…</td><td>0.0</td><td>28.0</td><td>7.0</td><td>21000.0</td></tr><tr><td>&quot;0xa550ce25d2640d4b6d8c56e664b4…</td><td>&quot;0x2445e5e28890de3e93f39fca8176…</td><td>&quot;0x5cc63677dbc4143424cfae41b9bb…</td><td>&quot;0xe51ef1836dbef052bffd2eb3fe13…</td><td>false</td><td>&quot;0x2f25d41b7706d073b3862771d505…</td><td>64241985198324376</td><td>2572765</td><td>&quot;0x81f11a1f9584d44ae1e7a3fcced6…</td><td>1729442799075</td><td>1729442835075</td><td>&quot;0x6a9971cbd6b16fc56f1a271ce3b4…</td><td>&quot;&quot;</td><td>&quot;0x4e63faff7e764a015358c471480e…</td><td>&quot;0x4601e25a54bafdf8e7d266ab21cb…</td><td>31454679</td><td>2572765</td><td>&quot;0x707265636f6e662e6275696c6465…</td><td>&quot;0xe51ef1836dbef052bffd2eb3fe13…</td><td>&quot;0xe51ef1836dbef052bffd2eb3fe13…</td><td>19838</td><td>2</td><td>&quot;0xa198fe7c3e49ff7f1dc3cf2c9d62…</td><td>1729442832</td><td>14.0</td><td>514673</td><td>&quot;0xfafd31d571d8b159c2b67b4d1235…</td><td>0.0</td><td>56.0</td><td>14.0</td><td>21000.0</td></tr><tr><td>&quot;0x81e2d91143a383d0cf047a897395…</td><td>&quot;0x8280f34750068c67acf5366a5c7c…</td><td>&quot;0x39da32c3b968ebc7274469afa105…</td><td>&quot;0xe51ef1836dbef052bffd2eb3fe13…</td><td>false</td><td>&quot;0xc29ab7d28b22a7e473262000ead8…</td><td>78864102854656336</td><td>2572798</td><td>&quot;0xc69412d18e765c83aa5418a8077e…</td><td>1729443256776</td><td>1729443292776</td><td>&quot;0x18f33b459d18cf39d3cc4e25746f…</td><td>&quot;&quot;</td><td>&quot;0x2293addd134987376845865fd376…</td><td>&quot;0xd47adb6bae36537582c953ce84c6…</td><td>31456841</td><td>2572798</td><td>&quot;0x707265636f6e662e6275696c6465…</td><td>&quot;0xe51ef1836dbef052bffd2eb3fe13…</td><td>&quot;0xe51ef1836dbef052bffd2eb3fe13…</td><td>19839</td><td>2</td><td>&quot;0x5c6471b0711967b528644672b439…</td><td>1729443288</td><td>9.0</td><td>1048858</td><td>&quot;0x9af394022eb73c1415bfa17b1706…</td><td>0.0</td><td>36.0</td><td>9.0</td><td>21000.0</td></tr><tr><td>&quot;0x193161f2efc5f429e8d1df1b00db…</td><td>&quot;0x2445e5e28890de3e93f39fca8176…</td><td>&quot;0xc97cdc098ba027ac1983e7447d6d…</td><td>&quot;0xe51ef1836dbef052bffd2eb3fe13…</td><td>false</td><td>&quot;0x631bb624642acaa08ade0305bb28…</td><td>52870252409131208</td><td>2572942</td><td>&quot;0x5dcf0c8814f1636bd464f29b6ea1…</td><td>1729445065818</td><td>1729445101818</td><td>&quot;0xcecce05a4623a86e4218ceb53be8…</td><td>&quot;&quot;</td><td>&quot;0x60115434815f592dab9bb8a9c16d…</td><td>&quot;0x958188ac508aece37a191289ebe1…</td><td>31465821</td><td>2572942</td><td>&quot;0x707265636f6e662e6275696c6465…</td><td>&quot;0xe51ef1836dbef052bffd2eb3fe13…</td><td>&quot;0xe51ef1836dbef052bffd2eb3fe13…</td><td>19840</td><td>2</td><td>&quot;0x11216f48c4a567e0374c7bff7c34…</td><td>1729445088</td><td>15.0</td><td>811184</td><td>&quot;0x1cb54ad83ad8d67b36e750f76c17…</td><td>0.0</td><td>60.0</td><td>15.0</td><td>21000.0</td></tr></tbody></table></div>"
      ],
      "text/plain": [
       "shape: (15_460, 31)\n",
       "┌───────────┬───────────┬───────────┬───────────┬───┬───────────┬───────────┬───────────┬──────────┐\n",
       "│ commitmen ┆ committer ┆ commitmen ┆ bidder    ┆ … ┆ max_prior ┆ max_fee_p ┆ effective ┆ gas_used │\n",
       "│ tIndex    ┆ ---       ┆ tDigest   ┆ ---       ┆   ┆ ity_fee_p ┆ er_gas_l1 ┆ _gas_pric ┆ _l1      │\n",
       "│ ---       ┆ str       ┆ ---       ┆ str       ┆   ┆ er_gas_l1 ┆ ---       ┆ e_l1      ┆ ---      │\n",
       "│ str       ┆           ┆ str       ┆           ┆   ┆ ---       ┆ f64       ┆ ---       ┆ f64      │\n",
       "│           ┆           ┆           ┆           ┆   ┆ f64       ┆           ┆ f64       ┆          │\n",
       "╞═══════════╪═══════════╪═══════════╪═══════════╪═══╪═══════════╪═══════════╪═══════════╪══════════╡\n",
       "│ 0x13d5cc1 ┆ 0x2445e5e ┆ 0xb7f3c67 ┆ 0xca00cbb ┆ … ┆ null      ┆ null      ┆ 5.0799891 ┆ 148404.0 │\n",
       "│ a3fd55c5e ┆ 28890de3e ┆ 57778f031 ┆ 64386d60e ┆   ┆           ┆           ┆ e7        ┆          │\n",
       "│ a772f43be ┆ 93f39fca8 ┆ dcd35944c ┆ deb1825e5 ┆   ┆           ┆           ┆           ┆          │\n",
       "│ 7dd…      ┆ 176…      ┆ c3d…      ┆ 692…      ┆   ┆           ┆           ┆           ┆          │\n",
       "│ 0x1acfbd9 ┆ 0x2445e5e ┆ 0x1771c78 ┆ 0xca00cbb ┆ … ┆ null      ┆ null      ┆ 4.6363686 ┆ 21368.0  │\n",
       "│ b90728f58 ┆ 28890de3e ┆ b7672b4cc ┆ 64386d60e ┆   ┆           ┆           ┆ e7        ┆          │\n",
       "│ d1a838764 ┆ 93f39fca8 ┆ 592ca3287 ┆ deb1825e5 ┆   ┆           ┆           ┆           ┆          │\n",
       "│ 73a…      ┆ 176…      ┆ 0ac…      ┆ 692…      ┆   ┆           ┆           ┆           ┆          │\n",
       "│ 0x4f0635c ┆ 0x2445e5e ┆ 0x63e8701 ┆ 0xca00cbb ┆ … ┆ 4.4972768 ┆ 4.4972779 ┆ 4.4972776 ┆ 197522.0 │\n",
       "│ c3a812f20 ┆ 28890de3e ┆ 2d498188e ┆ 64386d60e ┆   ┆ e7        ┆ e7        ┆ e7        ┆          │\n",
       "│ fe5195523 ┆ 93f39fca8 ┆ 87a08cab5 ┆ deb1825e5 ┆   ┆           ┆           ┆           ┆          │\n",
       "│ e10…      ┆ 176…      ┆ 6a2…      ┆ 692…      ┆   ┆           ┆           ┆           ┆          │\n",
       "│ 0xfb1a5a4 ┆ 0x2445e5e ┆ 0xa6ea51a ┆ 0xca00cbb ┆ … ┆ 4.4972776 ┆ 4.4972776 ┆ 4.4972776 ┆ 170593.0 │\n",
       "│ 3629a1336 ┆ 28890de3e ┆ 80f622dc1 ┆ 64386d60e ┆   ┆ e7        ┆ e7        ┆ e7        ┆          │\n",
       "│ f348e7007 ┆ 93f39fca8 ┆ 4b019e81f ┆ deb1825e5 ┆   ┆           ┆           ┆           ┆          │\n",
       "│ 4a5…      ┆ 176…      ┆ dbf…      ┆ 692…      ┆   ┆           ┆           ┆           ┆          │\n",
       "│ 0x6ab8042 ┆ 0x2445e5e ┆ 0xe83829f ┆ 0xca00cbb ┆ … ┆ 4.3623584 ┆ 4.36236e7 ┆ 4.3623592 ┆ 3.010266 │\n",
       "│ 3b0da5210 ┆ 28890de3e ┆ 9afcf3b56 ┆ 64386d60e ┆   ┆ e7        ┆           ┆ e7        ┆ e6       │\n",
       "│ 90e797d69 ┆ 93f39fca8 ┆ bf3b19105 ┆ deb1825e5 ┆   ┆           ┆           ┆           ┆          │\n",
       "│ 59a…      ┆ 176…      ┆ aab…      ┆ 692…      ┆   ┆           ┆           ┆           ┆          │\n",
       "│ …         ┆ …         ┆ …         ┆ …         ┆ … ┆ …         ┆ …         ┆ …         ┆ …        │\n",
       "│ 0x768ef42 ┆ 0x2445e5e ┆ 0x29f44f5 ┆ 0xe51ef18 ┆ … ┆ 0.0       ┆ 72.0      ┆ 18.0      ┆ 21000.0  │\n",
       "│ 848e5f0c6 ┆ 28890de3e ┆ e7fe28562 ┆ 36dbef052 ┆   ┆           ┆           ┆           ┆          │\n",
       "│ bddf57df3 ┆ 93f39fca8 ┆ c7298c6cd ┆ bffd2eb3f ┆   ┆           ┆           ┆           ┆          │\n",
       "│ ebb…      ┆ 176…      ┆ 62f…      ┆ e13…      ┆   ┆           ┆           ┆           ┆          │\n",
       "│ 0x6770b3b ┆ 0x2445e5e ┆ 0xe2ec05c ┆ 0xe51ef18 ┆ … ┆ 0.0       ┆ 28.0      ┆ 7.0       ┆ 21000.0  │\n",
       "│ cc16e25d2 ┆ 28890de3e ┆ c4b30b77b ┆ 36dbef052 ┆   ┆           ┆           ┆           ┆          │\n",
       "│ 9662bc511 ┆ 93f39fca8 ┆ 35f117cae ┆ bffd2eb3f ┆   ┆           ┆           ┆           ┆          │\n",
       "│ 41d…      ┆ 176…      ┆ a3b…      ┆ e13…      ┆   ┆           ┆           ┆           ┆          │\n",
       "│ 0xa550ce2 ┆ 0x2445e5e ┆ 0x5cc6367 ┆ 0xe51ef18 ┆ … ┆ 0.0       ┆ 56.0      ┆ 14.0      ┆ 21000.0  │\n",
       "│ 5d2640d4b ┆ 28890de3e ┆ 7dbc41434 ┆ 36dbef052 ┆   ┆           ┆           ┆           ┆          │\n",
       "│ 6d8c56e66 ┆ 93f39fca8 ┆ 24cfae41b ┆ bffd2eb3f ┆   ┆           ┆           ┆           ┆          │\n",
       "│ 4b4…      ┆ 176…      ┆ 9bb…      ┆ e13…      ┆   ┆           ┆           ┆           ┆          │\n",
       "│ 0x81e2d91 ┆ 0x8280f34 ┆ 0x39da32c ┆ 0xe51ef18 ┆ … ┆ 0.0       ┆ 36.0      ┆ 9.0       ┆ 21000.0  │\n",
       "│ 143a383d0 ┆ 750068c67 ┆ 3b968ebc7 ┆ 36dbef052 ┆   ┆           ┆           ┆           ┆          │\n",
       "│ cf047a897 ┆ acf5366a5 ┆ 274469afa ┆ bffd2eb3f ┆   ┆           ┆           ┆           ┆          │\n",
       "│ 395…      ┆ c7c…      ┆ 105…      ┆ e13…      ┆   ┆           ┆           ┆           ┆          │\n",
       "│ 0x193161f ┆ 0x2445e5e ┆ 0xc97cdc0 ┆ 0xe51ef18 ┆ … ┆ 0.0       ┆ 60.0      ┆ 15.0      ┆ 21000.0  │\n",
       "│ 2efc5f429 ┆ 28890de3e ┆ 98ba027ac ┆ 36dbef052 ┆   ┆           ┆           ┆           ┆          │\n",
       "│ e8d1df1b0 ┆ 93f39fca8 ┆ 1983e7447 ┆ bffd2eb3f ┆   ┆           ┆           ┆           ┆          │\n",
       "│ 0db…      ┆ 176…      ┆ d6d…      ┆ e13…      ┆   ┆           ┆           ┆           ┆          │\n",
       "└───────────┴───────────┴───────────┴───────────┴───┴───────────┴───────────┴───────────┴──────────┘"
      ]
     },
     "execution_count": 7,
     "metadata": {},
     "output_type": "execute_result"
    }
   ],
   "source": [
    "commitments_df"
   ]
  },
  {
   "cell_type": "code",
   "execution_count": null,
   "metadata": {},
   "outputs": [],
   "source": []
  },
  {
   "cell_type": "code",
   "execution_count": null,
   "metadata": {},
   "outputs": [],
   "source": []
  }
 ],
 "metadata": {
  "kernelspec": {
   "display_name": "Python 3",
   "language": "python",
   "name": "python3"
  },
  "language_info": {
   "codemirror_mode": {
    "name": "ipython",
    "version": 3
   },
   "file_extension": ".py",
   "mimetype": "text/x-python",
   "name": "python",
   "nbconvert_exporter": "python",
   "pygments_lexer": "ipython3",
   "version": "3.12.5"
  }
 },
 "nbformat": 4,
 "nbformat_minor": 2
}
